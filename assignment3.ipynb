{
 "cells": [
  {
   "cell_type": "markdown",
   "id": "23d97e91-149e-4b06-8f35-3a17a669be67",
   "metadata": {},
   "source": [
    "Q1. Which keyword is used to create a function? Create a function to return a list of odd numbers in the\n",
    "range of 1 to 25."
   ]
  },
  {
   "cell_type": "code",
   "execution_count": 1,
   "id": "0b816375-0d42-4b1e-8b49-375201872add",
   "metadata": {},
   "outputs": [],
   "source": [
    "#def keyword is used to create a function\n",
    "def function1():\n",
    "    a=range(1,25)\n",
    "    odd_numbers=[]\n",
    "    for i in a:\n",
    "        if i%2==1:\n",
    "            odd_numbers.append(i)\n",
    "    print(odd_numbers)\n",
    "    "
   ]
  },
  {
   "cell_type": "code",
   "execution_count": 2,
   "id": "15d39897-37aa-47ca-a7bd-c6eeb1c85a47",
   "metadata": {},
   "outputs": [
    {
     "name": "stdout",
     "output_type": "stream",
     "text": [
      "[1, 3, 5, 7, 9, 11, 13, 15, 17, 19, 21, 23]\n"
     ]
    }
   ],
   "source": [
    "function1()"
   ]
  },
  {
   "cell_type": "markdown",
   "id": "6f916f70-adbf-4ec7-b99d-8feaaba2709a",
   "metadata": {},
   "source": [
    "Q2. Why *args and **kwargs is used in some functions? Create a function each for *args and **kwargs to\n",
    "demonstrate their use."
   ]
  },
  {
   "cell_type": "code",
   "execution_count": 3,
   "id": "6c1b7ae3-626c-4a8f-9eb5-c0fc0295d96f",
   "metadata": {},
   "outputs": [],
   "source": [
    "# *args is used to passing unknown number of arguments to a function\n",
    "# **kwargs is used to pass key-value pair like arguments\n",
    "# *args function\n",
    "def function2(*args):\n",
    "    strings=[]\n",
    "    for i in args:\n",
    "        if type(i)==str:\n",
    "            strings.append(i)\n",
    "    return strings\n"
   ]
  },
  {
   "cell_type": "code",
   "execution_count": 4,
   "id": "d07f3937-4f80-4e14-be4b-855f48649f00",
   "metadata": {},
   "outputs": [
    {
     "data": {
      "text/plain": [
       "['a', 'g', 't']"
      ]
     },
     "execution_count": 4,
     "metadata": {},
     "output_type": "execute_result"
    }
   ],
   "source": [
    "function2(\"a\",123,325,56,45,\"g\",\"t\")\n"
   ]
  },
  {
   "cell_type": "code",
   "execution_count": 5,
   "id": "9aa6a3c9-ffeb-43e1-aa54-7a4e106ffcd1",
   "metadata": {},
   "outputs": [],
   "source": [
    "# **kwargs is used to pass key-value pairs as parameters\n",
    "# **kwargs function\n",
    "def function3(**kwargs):\n",
    "    integers=[]\n",
    "    for i in kwargs.keys():\n",
    "        if type(kwargs[i])==int:\n",
    "            integers.append(i)\n",
    "    return integers"
   ]
  },
  {
   "cell_type": "code",
   "execution_count": 6,
   "id": "3a28c24a-67cb-4751-be00-6a09971d84fb",
   "metadata": {},
   "outputs": [
    {
     "data": {
      "text/plain": [
       "['a', 'b', 'c']"
      ]
     },
     "execution_count": 6,
     "metadata": {},
     "output_type": "execute_result"
    }
   ],
   "source": [
    "function3(a=1,b=2,c=3,d=435.43,e=\"hi\")"
   ]
  },
  {
   "cell_type": "markdown",
   "id": "c01e5a2c-1dbf-4a72-8814-c37903ac35c3",
   "metadata": {},
   "source": [
    "Q3. What is an iterator in python? Name the method used to initialise the iterator object and the method\n",
    "used for iteration. Use these methods to print the first five elements of the given list [2, 4, 6, 8, 10, 12, 14, 16,\n",
    "18, 20]."
   ]
  },
  {
   "cell_type": "code",
   "execution_count": 7,
   "id": "f059a5ff-ef6b-41e5-b0dd-c65f1b8b1987",
   "metadata": {},
   "outputs": [
    {
     "name": "stdout",
     "output_type": "stream",
     "text": [
      "2\n",
      "4\n",
      "6\n",
      "8\n",
      "10\n"
     ]
    }
   ],
   "source": [
    "#iterator is an object that contains countable number of objects and it is something that is iterated upon\n",
    "#iter() method is used to intialise the iterator object and next() method is used for iteration\n",
    "#example of iterators are lists,tuple etc\n",
    "list=[2, 4, 6, 8, 10, 12, 14, 16,18, 20]\n",
    "iteratorlist=iter(list)\n",
    "print(next(iteratorlist))\n",
    "print(next(iteratorlist))\n",
    "print(next(iteratorlist))\n",
    "print(next(iteratorlist))\n",
    "print(next(iteratorlist))"
   ]
  },
  {
   "cell_type": "markdown",
   "id": "c70d980d-99ef-46be-a538-611a1afed2e4",
   "metadata": {},
   "source": [
    "Q4. What is a generator function in python? Why yield keyword is used? Give an example of a generator\n",
    "function."
   ]
  },
  {
   "cell_type": "code",
   "execution_count": 11,
   "id": "8fdf6654-1791-4028-ada1-1671e1efd941",
   "metadata": {},
   "outputs": [
    {
     "name": "stdout",
     "output_type": "stream",
     "text": [
      "0\n",
      "1\n",
      "2\n",
      "3\n",
      "4\n",
      "5\n",
      "6\n",
      "7\n",
      "8\n",
      "9\n"
     ]
    }
   ],
   "source": [
    "#generator function is a function that produces or yields a sequence of values using yield statement\n",
    "#yield keyword is used to produce a value in generator function\n",
    "def generatorfunction1(n):\n",
    "    value=0\n",
    "    while value<n:\n",
    "        yield value\n",
    "        value=value+1\n",
    "for value in generatorfunction1(10):\n",
    "    print(value)"
   ]
  },
  {
   "cell_type": "markdown",
   "id": "293c854d-9a9f-405e-be95-a3c478087497",
   "metadata": {},
   "source": [
    "Q5. Create a generator function for prime numbers less than 1000. Use the next() method to print the\n",
    "first 20 prime numbers."
   ]
  },
  {
   "cell_type": "code",
   "execution_count": 10,
   "id": "7445516a-f5ed-4eb7-aa5a-be5ef61e86fe",
   "metadata": {},
   "outputs": [
    {
     "name": "stdout",
     "output_type": "stream",
     "text": [
      "2\n",
      "3\n",
      "5\n",
      "7\n",
      "11\n",
      "13\n",
      "17\n",
      "19\n",
      "23\n",
      "29\n",
      "31\n",
      "37\n",
      "41\n",
      "43\n",
      "47\n",
      "53\n",
      "59\n",
      "61\n",
      "67\n",
      "71\n"
     ]
    }
   ],
   "source": [
    "def generatorfunction2(n):\n",
    "    for i in range(2,n):\n",
    "        for j in range(2,i):\n",
    "            if (i%j)==0:\n",
    "                break\n",
    "        else:\n",
    "            yield i\n",
    "x=generatorfunction2(1000)\n",
    "for k in range(20):\n",
    "    print(next(x))"
   ]
  },
  {
   "cell_type": "code",
   "execution_count": null,
   "id": "5761b36e-0884-4b4f-ac3a-457b5dc961fe",
   "metadata": {},
   "outputs": [],
   "source": []
  },
  {
   "cell_type": "code",
   "execution_count": null,
   "id": "13b30e77-f88b-491f-ba53-af18ba7f9875",
   "metadata": {},
   "outputs": [],
   "source": []
  }
 ],
 "metadata": {
  "kernelspec": {
   "display_name": "Python 3 (ipykernel)",
   "language": "python",
   "name": "python3"
  },
  "language_info": {
   "codemirror_mode": {
    "name": "ipython",
    "version": 3
   },
   "file_extension": ".py",
   "mimetype": "text/x-python",
   "name": "python",
   "nbconvert_exporter": "python",
   "pygments_lexer": "ipython3",
   "version": "3.10.8"
  }
 },
 "nbformat": 4,
 "nbformat_minor": 5
}
